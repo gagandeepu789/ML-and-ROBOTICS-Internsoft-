{
  "cells": [
    {
      "cell_type": "markdown",
      "metadata": {
        "id": "HzyuDO5BWvje"
      },
      "source": [
        "# Object Oriented Programming and File I/O"
      ]
    },
    {
      "cell_type": "markdown",
      "metadata": {
        "id": "ODAYs0SVWvjh"
      },
      "source": [
        "__Object Oriented Programming (OOP)__ is a programming paradigm that allows abstraction through the concept of interacting entities. This programming works contradictory to conventional model and is procedural, in which programs are organized as a sequence of commands or statements to perform.\n",
        "\n",
        "We can think an object as an entity that resides in memory, has a state and it's able to perform some actions.\n",
        "\n",
        "More formally objects are entities that represent **instances** of a general abstract concept called **class**. In `Python`, \"attributes\" are the variables defining an object state and the possible actions are called \"methods\".\n",
        "\n",
        "In Python, everything is an object also classes and functions."
      ]
    },
    {
      "cell_type": "markdown",
      "metadata": {
        "id": "vhGMUPpkWvji"
      },
      "source": [
        "## 1 How to define classes"
      ]
    },
    {
      "cell_type": "markdown",
      "metadata": {
        "id": "h8mruI2NWvjj"
      },
      "source": [
        "### 1.1 Creating a class"
      ]
    },
    {
      "cell_type": "markdown",
      "metadata": {
        "id": "GhbI50ImWvjj"
      },
      "source": [
        "Suppose we want to create a class, named Person, as a prototype, a sort of template for any number of 'Person' objects (instances)."
      ]
    },
    {
      "cell_type": "markdown",
      "metadata": {
        "id": "8ym7WAioWvjj"
      },
      "source": [
        "The following python syntax defines a class:\n",
        "\n",
        "    class ClassName(base_classes):\n",
        "        statements\n",
        "\n",
        "        "
      ]
    },
    {
      "cell_type": "markdown",
      "metadata": {
        "id": "E94rNg2AWvjk"
      },
      "source": [
        "Class names should always be uppercase (it's a naming convention)."
      ]
    },
    {
      "cell_type": "markdown",
      "metadata": {
        "id": "b4OWv4NcWvjk"
      },
      "source": [
        "Say we need to model a Person as:\n",
        "\n",
        "* Name\n",
        "* Surname  \n",
        "* Age  "
      ]
    },
    {
      "cell_type": "code",
      "execution_count": 2,
      "metadata": {
        "id": "Y2D9ZC-lWvjl",
        "outputId": "801fd5b2-d40c-463c-e993-f818e69351ad",
        "colab": {
          "base_uri": "https://localhost:8080/"
        }
      },
      "outputs": [
        {
          "output_type": "stream",
          "name": "stdout",
          "text": [
            "<__main__.Person object at 0x7e277b63fdf0>\n",
            "Alec Baldwin was born in 1958.\n"
          ]
        }
      ],
      "source": [
        "class Person:\n",
        "  pass\n",
        "john_doe = Person ()\n",
        "john_doe. name = \"Alec\"\n",
        "john_doe.surname = \"Baldwin\"\n",
        "john_doe.year_of_birth = 1958\n",
        "print (john_doe)\n",
        "print(\"%s %s was born in %d.\" %\n",
        "(john_doe. name, john_doe.surname, john_doe.year_of_birth))\n"
      ]
    },
    {
      "cell_type": "markdown",
      "metadata": {
        "id": "cbCZHHSBWvjm"
      },
      "source": [
        "The following example defines an empty class (i.e. the class doesn't have a state) called _Person_ then creates a _Person_ instance called _john_doe_ and adds three attributes to _john_doe_. We see that we can access objects attributes using the \"dot\" operator.\n",
        "\n",
        "This isn't a recommended style because classes should describe homogeneous entities. A way to do so is the following:"
      ]
    },
    {
      "cell_type": "code",
      "execution_count": 4,
      "metadata": {
        "id": "COwsdnGoWvjn"
      },
      "outputs": [],
      "source": [
        "class Person:\n",
        "  def __init__(self, name, surname, year_of_birth):\n",
        "       self.name = name\n",
        "       self. surname = surname\n",
        "       self.year_of_birth = year_of_birth"
      ]
    },
    {
      "cell_type": "markdown",
      "metadata": {
        "id": "EUTl2DpjWvjn"
      },
      "source": [
        "    __init__(self, ...)\n",
        "Is a special _Python_ method that is automatically called after an object construction. Its purpose is to initialize every object state. The first argument (by convention) __self__ is automatically passed either and refers to the object itself.\n",
        "\n",
        "In the preceding example, `__init__` adds three attributes to every object that is instantiated. So the class is actually describing each object's state.\n"
      ]
    },
    {
      "cell_type": "markdown",
      "metadata": {
        "id": "SqQOGBw3Wvjn"
      },
      "source": [
        "We cannot directly manipulate any class rather we need to create an instance of the class:"
      ]
    },
    {
      "cell_type": "code",
      "execution_count": 7,
      "metadata": {
        "id": "ei7KfFrpWvjn",
        "outputId": "ff1192c2-aeaf-40a1-d551-252c145ce8f2",
        "colab": {
          "base_uri": "https://localhost:8080/"
        }
      },
      "outputs": [
        {
          "output_type": "stream",
          "name": "stdout",
          "text": [
            "<__main__.Person object at 0x7e277b63ee30>\n",
            "Alec Baldwin was born in 1958\n"
          ]
        }
      ],
      "source": [
        "alec =Person(\"Alec\", \"Baldwin\", 1958)\n",
        "print(alec)\n",
        "print(\"%s %s was born in %d\"% (alec.name, alec.surname, alec.year_of_birth))\n"
      ]
    },
    {
      "cell_type": "markdown",
      "metadata": {
        "id": "I25uY75iWvjn"
      },
      "source": [
        "\n",
        "We have just created an instance of the Person class, bound to the variable `alec`."
      ]
    },
    {
      "cell_type": "markdown",
      "metadata": {
        "id": "DaRRyUMtWvjo"
      },
      "source": [
        "### 1.2 Methods"
      ]
    },
    {
      "cell_type": "code",
      "execution_count": null,
      "metadata": {
        "id": "LhJTSYyyWvjo"
      },
      "outputs": [],
      "source": [
        "class Person:\n",
        "   def _init__(self, name, surname, year_of_birth):\n",
        "    self. name = name\n",
        "    self.surname = surname\n",
        "    self.year_of_birth = year_of_birth\n",
        "   def age(self, current_year):\n",
        "      return current_year - self.year_of_birth\n",
        "   def __str__(self):\n",
        "      return \"%s %s was born in %d .\" & (self.name, self.surname, self.year_of_birth)\n",
        "alec = Person (\"Alec\", \"Baldwin\", 1958)\n",
        "print (alec)\n",
        "print(alec.age (2019))\n"
      ]
    },
    {
      "cell_type": "code",
      "execution_count": null,
      "metadata": {
        "id": "DGOCr68dWvjo"
      },
      "outputs": [],
      "source": []
    },
    {
      "cell_type": "markdown",
      "metadata": {
        "id": "rRFckM8XWvjo"
      },
      "source": [
        "We defined two more methods `age` and  `__str__`. The latter is once again a special method that is called by Python when the object has to be represented as a string (e.g. when has to be printed). If the `__str__` method isn't defined the **print** command shows the type of object and its address in memory. We can see that in order to call a method we use the same syntax for attributes (**instance_name.instance _method**)."
      ]
    },
    {
      "cell_type": "markdown",
      "metadata": {
        "id": "3F_wqsl-Wvjo"
      },
      "source": [
        "## 2 Inheritance"
      ]
    },
    {
      "cell_type": "markdown",
      "metadata": {
        "id": "wSPpgfKTWvjo"
      },
      "source": [
        "Once a class is defined it models a concept. It is useful to extend a class behavior to model a less general concept. Say we need to model a Student, but we know that every student is also a Person so we shouldn't model the Person again but inherit from it instead."
      ]
    },
    {
      "cell_type": "code",
      "execution_count": null,
      "metadata": {
        "id": "pNGmRuXvWvjo"
      },
      "outputs": [],
      "source": [
        "class Student (Person):\n",
        "  def _init__(self, student_id, *args, **kwargs):\n",
        "    super(Student, self).__init__(*args,**kwargs)\n",
        "    self._student_id = student_id\n",
        "\n",
        "charlie = Student (1, 'Charlie', 'Brown', 2006)\n",
        "print (charlie)\n",
        "print (type (charlie))\n",
        "print(isinstance(charlie, Person))\n",
        "print(isinstance(charlie, object))"
      ]
    },
    {
      "cell_type": "markdown",
      "metadata": {
        "id": "-km1rv0VWvjo"
      },
      "source": [
        "Charlie now has the same behavior of a Person, but his state has also a student ID. A Person is one of the base classes of Student and Student is one of the sub classes of Person. Be aware that a subclass knows about its superclasses but the converse isn't true.\n",
        "\n",
        "A sub class doesn't only inherits from its base classes, but from its base classes too, forming an inheritance tree that starts from a object (every class base class).\n",
        "\n",
        "    super(Class, instance)\n",
        "    \n",
        "is a function that returns a proxy-object that delegates method calls to a parent or sibling class of type.\n",
        "So we used it to access Person's `__init__`."
      ]
    },
    {
      "cell_type": "markdown",
      "metadata": {
        "id": "Xhqg82N7Wvjp"
      },
      "source": [
        "### 2.1 Overriding methods"
      ]
    },
    {
      "cell_type": "markdown",
      "metadata": {
        "id": "Fh7cEskrWvjp"
      },
      "source": [
        "Inheritance allows to add new methods to a subclass but often is useful to change the behavior of a method defined in the superclass. To override a method just define it again."
      ]
    },
    {
      "cell_type": "code",
      "execution_count": null,
      "metadata": {
        "id": "_y8QcFe9Wvjp"
      },
      "outputs": [],
      "source": [
        "cLass Student (Person): I\n",
        "  def _init_(self,' student_id, wargs, *kwargs):\n",
        "    super(Student, self).__init__(*args, **kwargs)\n",
        "    self._student_id = student_id\n",
        "  def _str_ (self):\n",
        "    return super (Student, self).__str__() + \" And has ID: sd\" & self._student_id\n",
        "charlie = Student(1, 'Charlie', 'Brown', 2006)\n",
        "print (charlie)"
      ]
    },
    {
      "cell_type": "markdown",
      "metadata": {
        "id": "H4tcIpAGWvjp"
      },
      "source": [
        "We defined `__str__` again overriding the one wrote in Person, but we wanted to extend it, so we used super to achieve our goal."
      ]
    },
    {
      "cell_type": "markdown",
      "metadata": {
        "id": "SkCGHcy5Wvjp"
      },
      "source": [
        "## 3 Encapsulation"
      ]
    },
    {
      "cell_type": "markdown",
      "metadata": {
        "id": "kPl_XbqDWvjp"
      },
      "source": [
        "Encapsulation is an another powerful way to extend a class which consists on wrapping an object with a second one.\n",
        "There are two main reasons to use encapsulation:\n",
        "* Composition\n",
        "* Dynamic Extension\n"
      ]
    },
    {
      "cell_type": "markdown",
      "metadata": {
        "id": "XVy4X1QsWvjp"
      },
      "source": [
        "### 3.1 Composition"
      ]
    },
    {
      "cell_type": "markdown",
      "metadata": {
        "id": "YiU790L9Wvjq"
      },
      "source": [
        "The abstraction process relies on creating a simplified model that remove useless details from a concept. In order to be simplified, a model should be described in terms of other simpler concepts.\n",
        "For example, we can say that a car is composed by:\n",
        "* Tyres\n",
        "* Engine\n",
        "* Body\n",
        "\n",
        "And break down each one of these elements in simpler parts until we reach primitive data."
      ]
    },
    {
      "cell_type": "markdown",
      "metadata": {
        "id": "NWPRRztDWvjq"
      },
      "source": [
        "## 4 Polymorphism and DuckTyping"
      ]
    },
    {
      "cell_type": "markdown",
      "metadata": {
        "id": "sQ3X8rAUWvjq"
      },
      "source": [
        "`Python` uses dynamic typing which is also called as duck typing. If an object implements a method you can use it, irrespective of the type. This is different from statically typed languages, where the type of a construct need to be explicitly declared. Polymorphism is the ability to use the same syntax for objects of different types:"
      ]
    },
    {
      "cell_type": "code",
      "execution_count": 20,
      "metadata": {
        "id": "nhk_pG8BWvjq",
        "outputId": "382a257d-8ee1-444a-f000-eef26272f117",
        "colab": {
          "base_uri": "https://localhost:8080/",
          "height": 140
        }
      },
      "outputs": [
        {
          "output_type": "error",
          "ename": "SyntaxError",
          "evalue": "ignored",
          "traceback": [
            "\u001b[0;36m  File \u001b[0;32m\"<ipython-input-20-f27e49c200fe>\"\u001b[0;36m, line \u001b[0;32m4\u001b[0m\n\u001b[0;31m    print (summer ((\"a\",\"b\", \"c\"], [\"d\", \"e\"]))\u001b[0m\n\u001b[0m                                ^\u001b[0m\n\u001b[0;31mSyntaxError\u001b[0m\u001b[0;31m:\u001b[0m closing parenthesis ']' does not match opening parenthesis '('\n"
          ]
        }
      ],
      "source": [
        "def summer(a, b):\n",
        "  return a + b\n",
        "\n",
        "print(summer(1, 1))\n",
        "print(summer ([\"a\",\"b\", \"c\"], [\"d\", \"e\"]))\n",
        "print (summer (\"abra\", \"cadabra\"))"
      ]
    },
    {
      "cell_type": "markdown",
      "metadata": {
        "id": "HMNJ7xN7Wvjr"
      },
      "source": [
        "## 5 How long does a class should be?"
      ]
    },
    {
      "cell_type": "markdown",
      "metadata": {
        "id": "iDl5rIm2Wvjr"
      },
      "source": [
        "There is an Object Oriented Programming (OOP) principle called Single Responsibility Principle (SRP) and it states: \"A class should have one single responsibility\" or \"A class should have only one reason to change\".\n",
        "\n",
        "If you come across a class which doesn't follow the SRP principle, you should spilt it. You will be grateful to SRP during your software maintenance."
      ]
    },
    {
      "cell_type": "markdown",
      "metadata": {
        "id": "sPhDPlSjWvjr"
      },
      "source": [
        "# Files\n",
        "\n",
        "Python uses file objects to interact with the external files on your computer. These file objects cab be of any file format on your computer i.e. can be an audio file, a text file, emails, Excel documents, etc. Note that You will probably need to install certain libraries or modules to interact with those various file types, but they are easily available. (We will cover downloading modules later on in the course).\n",
        "\n",
        "Python has a built-in open function that allows us to open and play with basic file types. First we will need a file though. We're going to use some iPython magic to create a text file!\n",
        "\n",
        "## iPython Writing a File"
      ]
    },
    {
      "cell_type": "code",
      "execution_count": 21,
      "metadata": {
        "id": "GpMILE7iWvjr",
        "outputId": "d9af07aa-4aac-44d0-c111-c08b17d096d5",
        "colab": {
          "base_uri": "https://localhost:8080/"
        }
      },
      "outputs": [
        {
          "output_type": "stream",
          "name": "stdout",
          "text": [
            "Writing superman.txt\n"
          ]
        }
      ],
      "source": [
        "%%writefile superman.txt\n",
        "Hello, this is a quick superman test file"
      ]
    },
    {
      "cell_type": "markdown",
      "metadata": {
        "id": "4akOhB3pWvjs"
      },
      "source": [
        "## Python Opening a file\n",
        "\n",
        "We can open a file with the open() function. This function also takes in arguments (also called parameters). Let's see how this is used:"
      ]
    },
    {
      "cell_type": "code",
      "execution_count": 26,
      "metadata": {
        "id": "W0y248LhWvjt"
      },
      "outputs": [],
      "source": [
        "# Open the text.txt we made earlier\n",
        "my_file = open ('superman.txt')\n"
      ]
    },
    {
      "cell_type": "code",
      "execution_count": 27,
      "metadata": {
        "id": "pcM3g8S1Wvjt",
        "outputId": "ff2d327c-becf-4325-b83f-b433a41304ff",
        "colab": {
          "base_uri": "https://localhost:8080/",
          "height": 36
        }
      },
      "outputs": [
        {
          "output_type": "execute_result",
          "data": {
            "text/plain": [
              "'Hello, this is a quick superman test file\\n'"
            ],
            "application/vnd.google.colaboratory.intrinsic+json": {
              "type": "string"
            }
          },
          "metadata": {},
          "execution_count": 27
        }
      ],
      "source": [
        "# We can now read the file\n",
        "my_file. read ()"
      ]
    },
    {
      "cell_type": "code",
      "execution_count": 29,
      "metadata": {
        "id": "xzL0N_KqWvjt",
        "outputId": "0ae86100-90e8-4a22-a9af-f01070017959",
        "colab": {
          "base_uri": "https://localhost:8080/",
          "height": 36
        }
      },
      "outputs": [
        {
          "output_type": "execute_result",
          "data": {
            "text/plain": [
              "''"
            ],
            "application/vnd.google.colaboratory.intrinsic+json": {
              "type": "string"
            }
          },
          "metadata": {},
          "execution_count": 29
        }
      ],
      "source": [
        "# But what happens if we try to read it again?\n",
        "my_file. read ()"
      ]
    },
    {
      "cell_type": "markdown",
      "metadata": {
        "id": "ilmzQaGAWvju"
      },
      "source": [
        "This happens because you can imagine the reading \"cursor\" is at the end of the file after having read it. So there is nothing left to read. We can reset the \"cursor\" like this:"
      ]
    },
    {
      "cell_type": "code",
      "execution_count": 30,
      "metadata": {
        "id": "323R_X2AWvju",
        "outputId": "a54bfc74-c67b-4d08-f412-6dea06f8b217",
        "colab": {
          "base_uri": "https://localhost:8080/"
        }
      },
      "outputs": [
        {
          "output_type": "execute_result",
          "data": {
            "text/plain": [
              "0"
            ]
          },
          "metadata": {},
          "execution_count": 30
        }
      ],
      "source": [
        "# Seek to the start of file (index 0)\n",
        "my_file. seek(0)"
      ]
    },
    {
      "cell_type": "code",
      "execution_count": 31,
      "metadata": {
        "id": "Hv_nascNWvju",
        "outputId": "373e7139-5fec-4ef7-dc2b-8fd988ddb601",
        "colab": {
          "base_uri": "https://localhost:8080/",
          "height": 36
        }
      },
      "outputs": [
        {
          "output_type": "execute_result",
          "data": {
            "text/plain": [
              "'Hello, this is a quick superman test file\\n'"
            ],
            "application/vnd.google.colaboratory.intrinsic+json": {
              "type": "string"
            }
          },
          "metadata": {},
          "execution_count": 31
        }
      ],
      "source": [
        "# Now read again\n",
        "my_file.read()"
      ]
    },
    {
      "cell_type": "markdown",
      "metadata": {
        "id": "tx8EJzHwWvjv"
      },
      "source": [
        "In order to not have to reset every time, we can also use the readlines method. Use caution with large files, since everything will be held in memory. We will learn how to iterate over large files later in the course."
      ]
    },
    {
      "cell_type": "code",
      "execution_count": 32,
      "metadata": {
        "id": "WAxkWjeUWvjv",
        "outputId": "3f51c974-1740-4a1a-e66c-2c1fa8a7d1c0",
        "colab": {
          "base_uri": "https://localhost:8080/"
        }
      },
      "outputs": [
        {
          "output_type": "execute_result",
          "data": {
            "text/plain": [
              "0"
            ]
          },
          "metadata": {},
          "execution_count": 32
        }
      ],
      "source": [
        "# Seek to the start of file (index 0)\n",
        "my_file. seek(0)"
      ]
    },
    {
      "cell_type": "code",
      "execution_count": 34,
      "metadata": {
        "id": "CEpO8Qd5Wvjv",
        "outputId": "b1ab85d2-e6dc-4a83-8c24-5bb04a05ddb6",
        "colab": {
          "base_uri": "https://localhost:8080/"
        }
      },
      "outputs": [
        {
          "output_type": "execute_result",
          "data": {
            "text/plain": [
              "[]"
            ]
          },
          "metadata": {},
          "execution_count": 34
        }
      ],
      "source": [
        "# Readlines returns a list of the lines in the file.\n",
        "my_file.readlines()"
      ]
    },
    {
      "cell_type": "markdown",
      "metadata": {
        "id": "-L_wiQMaWvjw"
      },
      "source": [
        "## Writing to a File\n",
        "\n",
        "By default, using the open() function will only allow us to read the file, we need to pass the argument 'w' to write over the file. For example:"
      ]
    },
    {
      "cell_type": "code",
      "execution_count": 35,
      "metadata": {
        "id": "Ds2cz4ECWvjw"
      },
      "outputs": [],
      "source": [
        "# Add the second argument to the function, 'w' which stands for write\n",
        "my_file=open('superman.txt','w+')"
      ]
    },
    {
      "cell_type": "code",
      "execution_count": 37,
      "metadata": {
        "id": "AS6K-Ba8Wvjw",
        "outputId": "d4f1a328-e162-41e9-cb93-e407139bd5c8",
        "colab": {
          "base_uri": "https://localhost:8080/"
        }
      },
      "outputs": [
        {
          "output_type": "execute_result",
          "data": {
            "text/plain": [
              "18"
            ]
          },
          "metadata": {},
          "execution_count": 37
        }
      ],
      "source": [
        "# Write to the file\n",
        "my_file.write('this is a new line')"
      ]
    },
    {
      "cell_type": "code",
      "execution_count": null,
      "metadata": {
        "id": "jlaJc_e_Wvjw"
      },
      "outputs": [],
      "source": [
        "# Seek to the start of file (index 0)\n"
      ]
    },
    {
      "cell_type": "code",
      "execution_count": null,
      "metadata": {
        "id": "dQiJc106Wvjx"
      },
      "outputs": [],
      "source": [
        "# Read the file\n"
      ]
    },
    {
      "cell_type": "markdown",
      "metadata": {
        "id": "y9fvGoJhWvjx"
      },
      "source": [
        "## Iterating through a File\n",
        "\n",
        "Let's get a quick preview of a for loop by iterating over a text file. First, let's make a new text file with some iPython Magic:"
      ]
    },
    {
      "cell_type": "code",
      "execution_count": 38,
      "metadata": {
        "id": "ZcQx8zjOWvjx",
        "outputId": "cda6f372-91aa-4ebd-d842-f210f1d9c37f",
        "colab": {
          "base_uri": "https://localhost:8080/"
        }
      },
      "outputs": [
        {
          "output_type": "stream",
          "name": "stdout",
          "text": [
            "Writing test.txt\n"
          ]
        }
      ],
      "source": [
        "%%writefile test.txt\n",
        "First Line\n",
        "Second Line"
      ]
    },
    {
      "cell_type": "markdown",
      "metadata": {
        "id": "DUJPMf0AWvjx"
      },
      "source": [
        "Now we can use a little bit of flow to tell the program to for through every line of the file and do something:"
      ]
    },
    {
      "cell_type": "code",
      "execution_count": 42,
      "metadata": {
        "id": "G7KT1HCeWvjy"
      },
      "outputs": [],
      "source": [
        "for line in open('superman.txt'):\n",
        "  print(line)"
      ]
    },
    {
      "cell_type": "code",
      "execution_count": 44,
      "metadata": {
        "id": "0X6kcwegWvjy"
      },
      "outputs": [],
      "source": [
        "# Pertaining to the first point above\n",
        "for asdf in open ('superman.txt'):\n",
        "  print(asdf)"
      ]
    },
    {
      "cell_type": "markdown",
      "metadata": {
        "id": "Rn5YmT9jWvjy"
      },
      "source": [
        "# StringIO\n",
        "\n",
        "The StringIO module implements an in-memory filelike object. This object can then be used as input or output to most functions that would expect a standard file object.\n",
        "\n",
        "The best way to show this is by example:"
      ]
    },
    {
      "cell_type": "code",
      "execution_count": 46,
      "metadata": {
        "id": "rzhmjUSpWvjy"
      },
      "outputs": [],
      "source": [
        "from io import StringIO"
      ]
    },
    {
      "cell_type": "code",
      "execution_count": 49,
      "metadata": {
        "id": "-JtyM_M7Wvjy"
      },
      "outputs": [],
      "source": [
        "# Arbitrary String\n",
        "message='This is just a normal string.'"
      ]
    },
    {
      "cell_type": "code",
      "execution_count": 51,
      "metadata": {
        "id": "mfsEyJRCWvjy"
      },
      "outputs": [],
      "source": [
        "# Use StringIO method to set as file object\n",
        "f = StringIO(message)"
      ]
    },
    {
      "cell_type": "markdown",
      "metadata": {
        "id": "Z1deOLnrWvjz"
      },
      "source": [
        "Now we have an object *f* that we will be able to treat just like a file. For example:"
      ]
    },
    {
      "cell_type": "code",
      "execution_count": 52,
      "metadata": {
        "id": "VzNod-HjWvjz",
        "outputId": "74a0b4f8-eb03-48c5-c138-bbf57c1bf6b9",
        "colab": {
          "base_uri": "https://localhost:8080/",
          "height": 36
        }
      },
      "outputs": [
        {
          "output_type": "execute_result",
          "data": {
            "text/plain": [
              "'This is just a normal string.'"
            ],
            "application/vnd.google.colaboratory.intrinsic+json": {
              "type": "string"
            }
          },
          "metadata": {},
          "execution_count": 52
        }
      ],
      "source": [
        "f. read ()"
      ]
    },
    {
      "cell_type": "markdown",
      "metadata": {
        "id": "6BDPyoLgWvjz"
      },
      "source": [
        "We can also write to it"
      ]
    },
    {
      "cell_type": "code",
      "execution_count": 53,
      "metadata": {
        "id": "Wl842UNaWvjz",
        "outputId": "64befdce-1873-4421-9eb8-d41aa686187a",
        "colab": {
          "base_uri": "https://localhost:8080/"
        }
      },
      "outputs": [
        {
          "output_type": "execute_result",
          "data": {
            "text/plain": [
              "40"
            ]
          },
          "metadata": {},
          "execution_count": 53
        }
      ],
      "source": [
        "f.write(' Second line written to file like object')"
      ]
    },
    {
      "cell_type": "code",
      "execution_count": 54,
      "metadata": {
        "id": "ceX_pvofWvjz",
        "outputId": "2b072b93-f471-40a6-fba9-1c4502abaa91",
        "colab": {
          "base_uri": "https://localhost:8080/"
        }
      },
      "outputs": [
        {
          "output_type": "execute_result",
          "data": {
            "text/plain": [
              "0"
            ]
          },
          "metadata": {},
          "execution_count": 54
        }
      ],
      "source": [
        "# Reset cursor just like you would a file\n",
        "f.seek(0)"
      ]
    },
    {
      "cell_type": "code",
      "execution_count": 55,
      "metadata": {
        "id": "vDkfxj-KWvjz",
        "outputId": "45f92d62-b097-4ab5-a5e4-79187cbbe21f",
        "colab": {
          "base_uri": "https://localhost:8080/",
          "height": 36
        }
      },
      "outputs": [
        {
          "output_type": "execute_result",
          "data": {
            "text/plain": [
              "'This is just a normal string. Second line written to file like object'"
            ],
            "application/vnd.google.colaboratory.intrinsic+json": {
              "type": "string"
            }
          },
          "metadata": {},
          "execution_count": 55
        }
      ],
      "source": [
        "# Read again\n",
        "f.read()"
      ]
    },
    {
      "cell_type": "code",
      "execution_count": null,
      "metadata": {
        "id": "FFkLcM7yWvjz"
      },
      "outputs": [],
      "source": []
    }
  ],
  "metadata": {
    "kernelspec": {
      "display_name": "Python 3",
      "language": "python",
      "name": "python3"
    },
    "language_info": {
      "codemirror_mode": {
        "name": "ipython",
        "version": 3
      },
      "file_extension": ".py",
      "mimetype": "text/x-python",
      "name": "python",
      "nbconvert_exporter": "python",
      "pygments_lexer": "ipython3",
      "version": "3.7.3"
    },
    "colab": {
      "provenance": []
    }
  },
  "nbformat": 4,
  "nbformat_minor": 0
}