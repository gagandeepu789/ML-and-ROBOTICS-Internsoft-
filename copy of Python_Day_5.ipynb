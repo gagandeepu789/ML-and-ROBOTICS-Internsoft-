{
  "cells": [
    {
      "cell_type": "markdown",
      "metadata": {
        "id": "K-G2f9qHHymx"
      },
      "source": [
        "# Modules and Packages"
      ]
    },
    {
      "cell_type": "markdown",
      "metadata": {
        "id": "GW4jK7UBHynA"
      },
      "source": [
        "Modules in Python are simply Python files with the .py extension, which implement a set of functions. Modules are imported from other modules using the import command. Before you go ahead and import modules, check out the full list of built-in modules in the Python Standard library.\n",
        "\n",
        "When a module is loaded into a running script for the first time, it is initialized by executing the code in the module once. If another module in your code imports the same module again, it will not be loaded twice but once only - so local variables inside the module act as a \"singleton\" - they are initialized only once.\n",
        "\n",
        "If we want to import module math,  we simply import the module:"
      ]
    },
    {
      "cell_type": "code",
      "execution_count": 1,
      "metadata": {
        "id": "xBAJQd6aHynE"
      },
      "outputs": [],
      "source": [
        "# import the library\n",
        "import math"
      ]
    },
    {
      "cell_type": "code",
      "execution_count": 7,
      "metadata": {
        "id": "sFeQ_wKoHynJ",
        "outputId": "10ce2993-7f15-4442-a0b4-2596e3292d42",
        "colab": {
          "base_uri": "https://localhost:8080/"
        }
      },
      "outputs": [
        {
          "output_type": "execute_result",
          "data": {
            "text/plain": [
              "3"
            ]
          },
          "metadata": {},
          "execution_count": 7
        }
      ],
      "source": [
        "# use it (ceiling rounding)\n",
        "math.ceil(2.4)"
      ]
    },
    {
      "cell_type": "markdown",
      "metadata": {
        "id": "h-sdKr62HynL"
      },
      "source": [
        "## Exploring built-in modules\n",
        "\n",
        "While exploring modules in Python, two important functions come in handy - the dir and help functions. dir functions show which functions are implemented in each module. Let us see the below example and understand better."
      ]
    },
    {
      "cell_type": "code",
      "execution_count": 8,
      "metadata": {
        "id": "iQmDNx-8HynM",
        "outputId": "05629fae-be7f-499f-c415-7d05f2d3f165",
        "colab": {
          "base_uri": "https://localhost:8080/"
        }
      },
      "outputs": [
        {
          "output_type": "stream",
          "name": "stdout",
          "text": [
            "['__doc__', '__loader__', '__name__', '__package__', '__spec__', 'acos', 'acosh', 'asin', 'asinh', 'atan', 'atan2', 'atanh', 'ceil', 'comb', 'copysign', 'cos', 'cosh', 'degrees', 'dist', 'e', 'erf', 'erfc', 'exp', 'expm1', 'fabs', 'factorial', 'floor', 'fmod', 'frexp', 'fsum', 'gamma', 'gcd', 'hypot', 'inf', 'isclose', 'isfinite', 'isinf', 'isnan', 'isqrt', 'lcm', 'ldexp', 'lgamma', 'log', 'log10', 'log1p', 'log2', 'modf', 'nan', 'nextafter', 'perm', 'pi', 'pow', 'prod', 'radians', 'remainder', 'sin', 'sinh', 'sqrt', 'tan', 'tanh', 'tau', 'trunc', 'ulp']\n"
          ]
        }
      ],
      "source": [
        "print(dir(math))"
      ]
    },
    {
      "cell_type": "markdown",
      "metadata": {
        "id": "7F6vLBuYHynO"
      },
      "source": [
        "When we find the function in the module we want to use, we can read about it more using the help function, inside the Python interpreter:"
      ]
    },
    {
      "cell_type": "code",
      "execution_count": 9,
      "metadata": {
        "id": "jBVSdYI9HynS",
        "outputId": "4a8b586a-8106-4a43-c45b-6781e4726fd7",
        "colab": {
          "base_uri": "https://localhost:8080/"
        }
      },
      "outputs": [
        {
          "output_type": "stream",
          "name": "stdout",
          "text": [
            "Help on built-in function ceil in module math:\n",
            "\n",
            "ceil(x, /)\n",
            "    Return the ceiling of x as an Integral.\n",
            "    \n",
            "    This is the smallest integer >= x.\n",
            "\n"
          ]
        }
      ],
      "source": [
        "help(math.ceil )"
      ]
    },
    {
      "cell_type": "markdown",
      "metadata": {
        "id": "NWphDStwHynT"
      },
      "source": [
        "## Writing modules\n",
        "Writing Python modules is very simple. To create a module of your own, simply create a new .py file with the module name, and then import it using the Python file name (without the .py extension) using the import command.\n",
        "\n",
        "## Writing packages\n",
        "Packages are name-spaces which contain multiple packages and modules themselves. They are simply directories, but with a twist.\n",
        "\n",
        "The twist is, each package in Python is a directory which MUST contain a special file called **\\__init\\__.py**. This file can be empty, and it indicates that the directory it contains is a Python package, so it can be imported the same way a module can be imported.\n",
        "\n",
        "If we create a directory called foo, which marks the package name, we can then create a module inside that package called bar. We also must not forget to add the **\\__init\\__.py** file inside the foo directory.\n",
        "\n",
        "To use the module bar, we can import it in two ways:"
      ]
    },
    {
      "cell_type": "code",
      "execution_count": 10,
      "metadata": {
        "id": "8MRDi9CzHynV",
        "outputId": "2d01f719-c24e-4e03-f97b-c79e4fde3b5e",
        "colab": {
          "base_uri": "https://localhost:8080/",
          "height": 331
        }
      },
      "outputs": [
        {
          "output_type": "error",
          "ename": "ModuleNotFoundError",
          "evalue": "ignored",
          "traceback": [
            "\u001b[0;31m---------------------------------------------------------------------------\u001b[0m",
            "\u001b[0;31mModuleNotFoundError\u001b[0m                       Traceback (most recent call last)",
            "\u001b[0;32m<ipython-input-10-0ab3de8fa44b>\u001b[0m in \u001b[0;36m<cell line: 2>\u001b[0;34m()\u001b[0m\n\u001b[1;32m      1\u001b[0m \u001b[0;31m# Just an example, this won't work\u001b[0m\u001b[0;34m\u001b[0m\u001b[0;34m\u001b[0m\u001b[0m\n\u001b[0;32m----> 2\u001b[0;31m \u001b[0;32mimport\u001b[0m \u001b[0mfoo\u001b[0m\u001b[0;34m.\u001b[0m\u001b[0mbar\u001b[0m\u001b[0;34m\u001b[0m\u001b[0;34m\u001b[0m\u001b[0m\n\u001b[0m",
            "\u001b[0;31mModuleNotFoundError\u001b[0m: No module named 'foo'",
            "",
            "\u001b[0;31m---------------------------------------------------------------------------\u001b[0;32m\nNOTE: If your import is failing due to a missing package, you can\nmanually install dependencies using either !pip or !apt.\n\nTo view examples of installing some common dependencies, click the\n\"Open Examples\" button below.\n\u001b[0;31m---------------------------------------------------------------------------\u001b[0m\n"
          ],
          "errorDetails": {
            "actions": [
              {
                "action": "open_url",
                "actionText": "Open Examples",
                "url": "/notebooks/snippets/importing_libraries.ipynb"
              }
            ]
          }
        }
      ],
      "source": [
        "# Just an example, this won't work\n",
        "import foo.bar"
      ]
    },
    {
      "cell_type": "code",
      "execution_count": 11,
      "metadata": {
        "id": "j14pcT0rHynW",
        "outputId": "47d9709b-9564-46ba-a6be-18b03aabfb88",
        "colab": {
          "base_uri": "https://localhost:8080/",
          "height": 331
        }
      },
      "outputs": [
        {
          "output_type": "error",
          "ename": "ModuleNotFoundError",
          "evalue": "ignored",
          "traceback": [
            "\u001b[0;31m---------------------------------------------------------------------------\u001b[0m",
            "\u001b[0;31mModuleNotFoundError\u001b[0m                       Traceback (most recent call last)",
            "\u001b[0;32m<ipython-input-11-6e8486d85732>\u001b[0m in \u001b[0;36m<cell line: 2>\u001b[0;34m()\u001b[0m\n\u001b[1;32m      1\u001b[0m \u001b[0;31m# OR could do it this way\u001b[0m\u001b[0;34m\u001b[0m\u001b[0;34m\u001b[0m\u001b[0m\n\u001b[0;32m----> 2\u001b[0;31m \u001b[0;32mfrom\u001b[0m \u001b[0mfoo\u001b[0m \u001b[0;32mimport\u001b[0m  \u001b[0mbar\u001b[0m\u001b[0;34m\u001b[0m\u001b[0;34m\u001b[0m\u001b[0m\n\u001b[0m",
            "\u001b[0;31mModuleNotFoundError\u001b[0m: No module named 'foo'",
            "",
            "\u001b[0;31m---------------------------------------------------------------------------\u001b[0;32m\nNOTE: If your import is failing due to a missing package, you can\nmanually install dependencies using either !pip or !apt.\n\nTo view examples of installing some common dependencies, click the\n\"Open Examples\" button below.\n\u001b[0;31m---------------------------------------------------------------------------\u001b[0m\n"
          ],
          "errorDetails": {
            "actions": [
              {
                "action": "open_url",
                "actionText": "Open Examples",
                "url": "/notebooks/snippets/importing_libraries.ipynb"
              }
            ]
          }
        }
      ],
      "source": [
        "# OR could do it this way\n",
        "from foo import  bar"
      ]
    },
    {
      "cell_type": "markdown",
      "metadata": {
        "id": "gdJqcBj5HynX"
      },
      "source": [
        "In the first method, we must use the foo prefix whenever we access the module bar. In the second method, we don't, because we import the module to our module's name-space.\n",
        "\n",
        "The **\\__init\\__.py** file can also decide which modules the package exports as the API, while keeping other modules internal, by overriding the **\\__all\\__** variable, like so:"
      ]
    },
    {
      "cell_type": "code",
      "execution_count": 13,
      "metadata": {
        "id": "IaREb19wHynY",
        "outputId": "a9e148ac-5c03-4426-ba06-5a0f1897621f",
        "colab": {
          "base_uri": "https://localhost:8080/",
          "height": 140
        }
      },
      "outputs": [
        {
          "output_type": "error",
          "ename": "SyntaxError",
          "evalue": "ignored",
          "traceback": [
            "\u001b[0;36m  File \u001b[0;32m\"<ipython-input-13-d185ba106d06>\"\u001b[0;36m, line \u001b[0;32m1\u001b[0m\n\u001b[0;31m    __init__.py:\u001b[0m\n\u001b[0m                ^\u001b[0m\n\u001b[0;31mSyntaxError\u001b[0m\u001b[0;31m:\u001b[0m invalid syntax\n"
          ]
        }
      ],
      "source": [
        "__init__.py:\n",
        "__all__=[\"bar\"]"
      ]
    },
    {
      "cell_type": "markdown",
      "metadata": {
        "id": "KD4NRwHJHynZ"
      },
      "source": [
        "# Errors and Exception Handling\n",
        "\n",
        "In this section, we will learn about Errors and Exception Handling in Python. You've might have definitely encountered errors by this point in the course. For example:"
      ]
    },
    {
      "cell_type": "code",
      "execution_count": 16,
      "metadata": {
        "id": "zCEFbtt5Hyna",
        "outputId": "40923972-d75f-4bff-bf74-d6db804efb3f",
        "colab": {
          "base_uri": "https://localhost:8080/",
          "height": 140
        }
      },
      "outputs": [
        {
          "output_type": "error",
          "ename": "SyntaxError",
          "evalue": "ignored",
          "traceback": [
            "\u001b[0;36m  File \u001b[0;32m\"<ipython-input-16-126035ba983d>\"\u001b[0;36m, line \u001b[0;32m1\u001b[0m\n\u001b[0;31m    print('hello)\u001b[0m\n\u001b[0m          ^\u001b[0m\n\u001b[0;31mSyntaxError\u001b[0m\u001b[0;31m:\u001b[0m unterminated string literal (detected at line 1)\n"
          ]
        }
      ],
      "source": [
        "print('hello)"
      ]
    },
    {
      "cell_type": "markdown",
      "metadata": {
        "id": "cMOlT_P4Hyna"
      },
      "source": [
        "Note how we get a SyntaxError, with the further description that it was an End of Line Error (EOL) while scanning the string literal. This is specific enough for us to see that we forgot a single quote at the end of the line. Understanding of these various error types will help you debug your code much faster.\n",
        "\n",
        "This type of error and description is known as an Exception. Even if a statement or expression is syntactically correct, it may cause an error when an attempt is made to execute it. Errors detected during execution are called exceptions and are not unconditionally fatal.\n",
        "\n",
        "You can check out the full list of built-in exceptions [here](https://docs.python.org/2/library/exceptions.html). Now, let's learn how to handle errors and exceptions in our own code."
      ]
    },
    {
      "cell_type": "markdown",
      "metadata": {
        "id": "ndnUR_9wHynb"
      },
      "source": [
        "## try and except\n",
        "\n",
        "The basic terminology and syntax used to handle errors in Python is the **try** and **except** statements. The code which can cause an exception to occur is put in the *try* block and the handling of the exception are the implemented in the *except* block of code. The syntax form is:\n",
        "\n",
        "    try:\n",
        "       You do your operations here...\n",
        "       ...\n",
        "    except ExceptionI:\n",
        "       If there is ExceptionI, then execute this block.\n",
        "    except ExceptionII:\n",
        "       If there is ExceptionII, then execute this block.\n",
        "       ...\n",
        "    else:\n",
        "       If there is no exception then execute this block.\n",
        "\n",
        "Using just except, we can check for any exception: To understand better let's check out a sample code that opens and writes a file:"
      ]
    },
    {
      "cell_type": "code",
      "execution_count": 19,
      "metadata": {
        "id": "ZVLxljjgHynb",
        "outputId": "191b7807-60bb-42cc-e980-cec967936197",
        "colab": {
          "base_uri": "https://localhost:8080/"
        }
      },
      "outputs": [
        {
          "output_type": "stream",
          "name": "stdout",
          "text": [
            "Content written successfully\n"
          ]
        }
      ],
      "source": [
        "try:\n",
        "  f = open( 'testfile', 'w')\n",
        "  f.write('Test write this')\n",
        "except I0Error:\n",
        "# This will only check for an I0Error exception and then execute this print statement\n",
        "  print(\"Error: Could not find file or read data\")\n",
        "else:\n",
        "    print(\"Content written successfully\")\n",
        "    f. close()"
      ]
    },
    {
      "cell_type": "markdown",
      "metadata": {
        "id": "mKmGPHQVHync"
      },
      "source": [
        "Now, let's see what happens when we don't have write permission? (opening only with 'r'):"
      ]
    },
    {
      "cell_type": "code",
      "execution_count": 22,
      "metadata": {
        "id": "30rqElbzHynd",
        "outputId": "712049cf-0ae3-4227-f5ce-8fa9576279db",
        "colab": {
          "base_uri": "https://localhost:8080/"
        }
      },
      "outputs": [
        {
          "output_type": "stream",
          "name": "stdout",
          "text": [
            "Error: Could not find file or read data\n"
          ]
        }
      ],
      "source": [
        "try:\n",
        "  f = open( 'testfile', 'r')\n",
        "  f.write('Test write this')\n",
        "except IOError:\n",
        "# This will only check for an I0Error exception and then execute this print statement\n",
        "  print(\"Error: Could not find file or read data\")\n",
        "else:\n",
        "  print(\"Content written successfully\")\n",
        "  f. close ()\n"
      ]
    },
    {
      "cell_type": "markdown",
      "metadata": {
        "id": "mBTR6uEUHyne"
      },
      "source": [
        "Notice, how we only printed a statement! The code still ran and we were able to continue doing actions and running code blocks. This is extremely useful when you have to account for possible input errors in your code. You can be prepared for the error and keep running code, instead of your code just breaking as we saw above.\n",
        "\n",
        "We could have also just said except: if we weren't sure what exception would occur. For example:"
      ]
    },
    {
      "cell_type": "code",
      "execution_count": 24,
      "metadata": {
        "id": "Krt5dZmcHynf",
        "outputId": "93803bcd-8783-4f78-af01-ed4dd569f404",
        "colab": {
          "base_uri": "https://localhost:8080/"
        }
      },
      "outputs": [
        {
          "output_type": "stream",
          "name": "stdout",
          "text": [
            "Content written successfully\n"
          ]
        }
      ],
      "source": [
        "try:\n",
        "  f = open ('testfile', 'w')\n",
        "  f.write( 'Test write this')\n",
        "except:\n",
        "# This will check for any exception and then execute this print statement\n",
        "  print(\"Error: Could not find file or read data\")\n",
        "else:\n",
        "  print (\"Content written successfully\")\n",
        "  f.close ()"
      ]
    },
    {
      "cell_type": "markdown",
      "metadata": {
        "id": "lC7iHoQkHyng"
      },
      "source": [
        "Now, we don't actually need to memorize the list of exception types! Now what if we keep wanting to run code after the exception occurred? This is where **finally** comes in.\n",
        "##finally\n",
        "The finally: Block of code will always be run regardless if there was an exception in the try code block. The syntax is:\n",
        "\n",
        "    try:\n",
        "       Code block here\n",
        "       ...\n",
        "       Due to any exception, this code may be skipped!\n",
        "    finally:\n",
        "       This code block would always be executed.\n",
        "\n",
        "For example:"
      ]
    },
    {
      "cell_type": "code",
      "execution_count": 28,
      "metadata": {
        "id": "A1xhrX7XHynh",
        "outputId": "e8b04c38-3d68-4c20-c9a6-f4c0eabee004",
        "colab": {
          "base_uri": "https://localhost:8080/"
        }
      },
      "outputs": [
        {
          "output_type": "stream",
          "name": "stdout",
          "text": [
            "Always execute finally code blocks\n"
          ]
        }
      ],
      "source": [
        "try:\n",
        "  f = open(\"testfile\", \"w\")\n",
        "  f.write(\"Test write statement\")\n",
        "finally:\n",
        "  print(\"Always execute finally code blocks\")"
      ]
    },
    {
      "cell_type": "markdown",
      "metadata": {
        "id": "d68fvbmhHyni"
      },
      "source": [
        "We can use this in conjunction with except. Let's see a new example that will take into account a user putting in the wrong input:"
      ]
    },
    {
      "cell_type": "code",
      "execution_count": 31,
      "metadata": {
        "id": "NCDADSBPHynj"
      },
      "outputs": [],
      "source": [
        "def askint():\n",
        "  try:\n",
        "    val = int(input (\"Please enter an integer: \"))\n",
        "  except:\n",
        "    print(\"Looks like you did not enter an integer!\")\n",
        "  finally:\n",
        "    print(\"Finally, I executed!\")\n",
        "  print (val)"
      ]
    },
    {
      "cell_type": "code",
      "source": [
        "askint()"
      ],
      "metadata": {
        "id": "ZcVtn4QWUVG_",
        "outputId": "274d3c26-c19a-4f5c-a5b2-c81a967b3db5",
        "colab": {
          "base_uri": "https://localhost:8080/"
        }
      },
      "execution_count": 32,
      "outputs": [
        {
          "output_type": "stream",
          "name": "stdout",
          "text": [
            "Please enter an integer: 4\n",
            "Finally, I executed!\n",
            "4\n"
          ]
        }
      ]
    },
    {
      "cell_type": "code",
      "execution_count": 33,
      "metadata": {
        "id": "OPLFOEuvHynj",
        "outputId": "587d76c1-f76a-439b-ce25-0e90434dc1dd",
        "colab": {
          "base_uri": "https://localhost:8080/",
          "height": 314
        }
      },
      "outputs": [
        {
          "output_type": "stream",
          "name": "stdout",
          "text": [
            "Please enter an integer: str\n",
            "Looks like you did not enter an integer!\n",
            "Finally, I executed!\n"
          ]
        },
        {
          "output_type": "error",
          "ename": "UnboundLocalError",
          "evalue": "ignored",
          "traceback": [
            "\u001b[0;31m---------------------------------------------------------------------------\u001b[0m",
            "\u001b[0;31mUnboundLocalError\u001b[0m                         Traceback (most recent call last)",
            "\u001b[0;32m<ipython-input-33-cc291aa76c10>\u001b[0m in \u001b[0;36m<cell line: 1>\u001b[0;34m()\u001b[0m\n\u001b[0;32m----> 1\u001b[0;31m \u001b[0maskint\u001b[0m\u001b[0;34m(\u001b[0m\u001b[0;34m)\u001b[0m\u001b[0;34m\u001b[0m\u001b[0;34m\u001b[0m\u001b[0m\n\u001b[0m",
            "\u001b[0;32m<ipython-input-31-7244f51e1530>\u001b[0m in \u001b[0;36maskint\u001b[0;34m()\u001b[0m\n\u001b[1;32m      6\u001b[0m   \u001b[0;32mfinally\u001b[0m\u001b[0;34m:\u001b[0m\u001b[0;34m\u001b[0m\u001b[0;34m\u001b[0m\u001b[0m\n\u001b[1;32m      7\u001b[0m     \u001b[0mprint\u001b[0m\u001b[0;34m(\u001b[0m\u001b[0;34m\"Finally, I executed!\"\u001b[0m\u001b[0;34m)\u001b[0m\u001b[0;34m\u001b[0m\u001b[0;34m\u001b[0m\u001b[0m\n\u001b[0;32m----> 8\u001b[0;31m   \u001b[0mprint\u001b[0m \u001b[0;34m(\u001b[0m\u001b[0mval\u001b[0m\u001b[0;34m)\u001b[0m\u001b[0;34m\u001b[0m\u001b[0;34m\u001b[0m\u001b[0m\n\u001b[0m",
            "\u001b[0;31mUnboundLocalError\u001b[0m: local variable 'val' referenced before assignment"
          ]
        }
      ],
      "source": [
        "askint()\n"
      ]
    },
    {
      "cell_type": "code",
      "execution_count": 34,
      "metadata": {
        "id": "AGu1BFhkHynk",
        "outputId": "76317f7e-da86-4ea8-d27e-697e3eea0a13",
        "colab": {
          "base_uri": "https://localhost:8080/"
        }
      },
      "outputs": [
        {
          "output_type": "stream",
          "name": "stdout",
          "text": [
            "Please enter an integer: 4\n",
            "Finally, I executed!\n",
            "4\n"
          ]
        }
      ],
      "source": [
        "askint()"
      ]
    },
    {
      "cell_type": "markdown",
      "metadata": {
        "id": "3-TUXDHsHynk"
      },
      "source": [
        "Check how we got an error when trying to print val (because it was properly assigned). Let's find the right solution by asking the user and checking to make sure the input type is an integer:"
      ]
    },
    {
      "cell_type": "code",
      "execution_count": 37,
      "metadata": {
        "id": "9RyE8fYtHynk"
      },
      "outputs": [],
      "source": [
        "def askint():\n",
        "  try:\n",
        "    val = int(input (\"Please enter an integer: \"))\n",
        "  except:\n",
        "    print(\"Looks like you did not enter an integer!\")\n",
        "    val = int(input (\"Try again-Please \"))\n",
        "  finally:\n",
        "    print(\"Finally, I executed!\")\n",
        "    print(val)\n"
      ]
    },
    {
      "cell_type": "code",
      "execution_count": null,
      "metadata": {
        "id": "5jjWozaEHynl"
      },
      "outputs": [],
      "source": []
    },
    {
      "cell_type": "markdown",
      "metadata": {
        "id": "szvGcApfHynl"
      },
      "source": [
        "Hmmm...that only did one check. How can we continually keep checking? We can use a while loop!"
      ]
    },
    {
      "cell_type": "code",
      "execution_count": null,
      "metadata": {
        "id": "JStfogAEHynl"
      },
      "outputs": [],
      "source": []
    },
    {
      "cell_type": "code",
      "execution_count": null,
      "metadata": {
        "scrolled": true,
        "id": "BO3Fqyh2Hynm"
      },
      "outputs": [],
      "source": []
    },
    {
      "cell_type": "markdown",
      "metadata": {
        "id": "R_YgcoguHynm"
      },
      "source": [
        "## Database connectivity and operations using Python.\n",
        "\n",
        "For Example, the following is the example of connecting with MySQL database \"my_database1\" and creating table grades1 and inserting values inside it."
      ]
    },
    {
      "cell_type": "code",
      "execution_count": 41,
      "metadata": {
        "id": "FuY5DQSRHynm",
        "outputId": "984e4a38-dc4b-4c72-87f7-930c585c43f5",
        "colab": {
          "base_uri": "https://localhost:8080/",
          "height": 245
        }
      },
      "outputs": [
        {
          "output_type": "error",
          "ename": "NameError",
          "evalue": "ignored",
          "traceback": [
            "\u001b[0;31m---------------------------------------------------------------------------\u001b[0m",
            "\u001b[0;31mNameError\u001b[0m                                 Traceback (most recent call last)",
            "\u001b[0;32m<ipython-input-41-8dbb1008394f>\u001b[0m in \u001b[0;36m<cell line: 2>\u001b[0;34m()\u001b[0m\n\u001b[1;32m      1\u001b[0m \u001b[0;31m# !/usr/bin/python\u001b[0m\u001b[0;34m\u001b[0m\u001b[0;34m\u001b[0m\u001b[0m\n\u001b[0;32m----> 2\u001b[0;31m \u001b[0mI\u001b[0m\u001b[0;34m\u001b[0m\u001b[0;34m\u001b[0m\u001b[0m\n\u001b[0m\u001b[1;32m      3\u001b[0m \u001b[0;32mimport\u001b[0m \u001b[0msqlite3\u001b[0m\u001b[0;34m\u001b[0m\u001b[0;34m\u001b[0m\u001b[0m\n\u001b[1;32m      4\u001b[0m \u001b[0;31m#connecting with the database.\u001b[0m\u001b[0;34m\u001b[0m\u001b[0;34m\u001b[0m\u001b[0m\n\u001b[1;32m      5\u001b[0m \u001b[0mdb\u001b[0m \u001b[0;34m=\u001b[0m \u001b[0msqlite3\u001b[0m\u001b[0;34m.\u001b[0m \u001b[0mconnect\u001b[0m \u001b[0;34m(\u001b[0m\u001b[0;34m\"my_databasel.db\"\u001b[0m\u001b[0;34m)\u001b[0m\u001b[0;34m\u001b[0m\u001b[0;34m\u001b[0m\u001b[0m\n",
            "\u001b[0;31mNameError\u001b[0m: name 'I' is not defined"
          ]
        }
      ],
      "source": [
        "\n",
        "!/usr/bin/python\n",
        "\n",
        "I\n",
        "import sqlite3\n",
        "#connecting with the database.\n",
        "db = sqlite3. connect (\"my_databasel.db\")\n",
        "# Drop table if it already exist using execute() method.\n",
        "db. execute(\"drop table if exists grades\")\n",
        "# Create table as per requirement\n",
        "db. execute(\"create table grades1(id int, name text, score int)\")\n",
        "#inserting values inside the created table\n",
        "db. execute(\"insert into grades1(id, name, score) values(101,'john',99)\")\n",
        "db. execute(\"insert into grades1(id, name, score) values(102,'johfdfn',94)\")\n",
        "db. execute(\"insert into grades1(id, name, score) values(103,'johfddfn',43)\")\n",
        "db. execute(\"insert into grades1(id, name, score) values(104,'jofdfdhn',34)\")"
      ]
    },
    {
      "cell_type": "code",
      "execution_count": 43,
      "metadata": {
        "id": "MPR6yEPmHynn",
        "outputId": "22053e2f-1584-469d-936d-0a6f6dba80fe",
        "colab": {
          "base_uri": "https://localhost:8080/",
          "height": 175
        }
      },
      "outputs": [
        {
          "output_type": "error",
          "ename": "NameError",
          "evalue": "ignored",
          "traceback": [
            "\u001b[0;31m---------------------------------------------------------------------------\u001b[0m",
            "\u001b[0;31mNameError\u001b[0m                                 Traceback (most recent call last)",
            "\u001b[0;32m<ipython-input-43-15ad4ad8228c>\u001b[0m in \u001b[0;36m<cell line: 1>\u001b[0;34m()\u001b[0m\n\u001b[0;32m----> 1\u001b[0;31m \u001b[0mdb\u001b[0m\u001b[0;34m.\u001b[0m\u001b[0mcommit\u001b[0m\u001b[0;34m(\u001b[0m\u001b[0;34m)\u001b[0m\u001b[0;34m\u001b[0m\u001b[0;34m\u001b[0m\u001b[0m\n\u001b[0m",
            "\u001b[0;31mNameError\u001b[0m: name 'db' is not defined"
          ]
        }
      ],
      "source": [
        "db.commit()"
      ]
    },
    {
      "cell_type": "code",
      "execution_count": null,
      "metadata": {
        "id": "vr7rG-L-Hynn"
      },
      "outputs": [],
      "source": [
        "results = db.execute,\n",
        "\"select * from grades order by 1d\")\n",
        "for row in results:\n",
        "print (row)\n",
        "print (\"-\" * 60 )"
      ]
    },
    {
      "cell_type": "code",
      "execution_count": null,
      "metadata": {
        "id": "bBveTZwlHyno"
      },
      "outputs": [],
      "source": [
        "results = db.execute(\"selet * from grades1 where name = 'Gary' \")\n",
        "for row in results:\n",
        "print (row)\n",
        "print(\"-\" * 60 )"
      ]
    },
    {
      "cell_type": "code",
      "execution_count": null,
      "metadata": {
        "id": "MQhVdVSDHynr"
      },
      "outputs": [],
      "source": [
        "results = db.execute(\"select * from grades1\n",
        "where\n",
        "for row in results:\n",
        "print (row)\n",
        "print (\"_\" * 60\n",
        ")\n",
        "SCO\n",
        "90\n",
        "\")"
      ]
    },
    {
      "cell_type": "code",
      "execution_count": null,
      "metadata": {
        "id": "LcG_cx2XHyns"
      },
      "outputs": [],
      "source": [
        "results = db.execute(\"select name, score from grades1 @rder by score desc\n",
        "results = db.execute(\"select name, score from grades1 arder by score desc \")\n",
        "for row in results:\n",
        "print (row)\n",
        "print(\"-\" * 60\n",
        ")"
      ]
    },
    {
      "cell_type": "code",
      "execution_count": null,
      "metadata": {
        "id": "vh2LJUiQHyns"
      },
      "outputs": [],
      "source": [
        "results = db.execute(\"select name, score from grades1 order by score\")\n",
        "results = db.execute(\"select name, score from grades1 order by score\")\n",
        "for row in results:\n",
        "print (row)\n",
        "print(\"_\" * 60\n",
        ")"
      ]
    },
    {
      "cell_type": "code",
      "execution_count": null,
      "metadata": {
        "id": "mGBCav_THyns"
      },
      "outputs": [],
      "source": [
        "results = db.execute\"select name, score from grades order by\n",
        "for row in results:\n",
        "print (row)"
      ]
    },
    {
      "cell_type": "code",
      "execution_count": null,
      "metadata": {
        "id": "b37J5DgBHynt"
      },
      "outputs": [],
      "source": []
    }
  ],
  "metadata": {
    "kernelspec": {
      "display_name": "Python 3",
      "language": "python",
      "name": "python3"
    },
    "language_info": {
      "codemirror_mode": {
        "name": "ipython",
        "version": 3
      },
      "file_extension": ".py",
      "mimetype": "text/x-python",
      "name": "python",
      "nbconvert_exporter": "python",
      "pygments_lexer": "ipython3",
      "version": "3.7.3"
    },
    "colab": {
      "provenance": []
    }
  },
  "nbformat": 4,
  "nbformat_minor": 0
}